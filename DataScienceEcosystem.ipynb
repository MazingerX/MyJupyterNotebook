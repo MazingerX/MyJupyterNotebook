{
 "cells": [
  {
   "cell_type": "raw",
   "id": "b8b2a5be-3051-44a2-bbb0-c8fdd9763433",
   "metadata": {},
   "source": [
    "# Data Science Tools and Ecosystem"
   ]
  },
  {
   "cell_type": "markdown",
   "id": "44e27eb0-a1c1-4927-a603-e3721d107d13",
   "metadata": {},
   "source": [
    "In this notebook, Data Science Tools and Ecosystem are summarized.\n",
    "<b>Objectives:</b>\n",
    "<ul>\n",
    "<li>Python</li>\n",
    "<li>RStudio</li>\n",
    "<li>C++</li>\n",
    "</ul>"
   ]
  },
  {
   "cell_type": "raw",
   "id": "49d8768b-3d03-46ee-8a86-6be2a0bfe43f",
   "metadata": {},
   "source": [
    "Some of the popular languages that Data Scientist use are:\n",
    "<ol>\n",
    "<li>Python</li>\n",
    "<li>R Studio</li>\n",
    "<li>Scala</li>\n",
    "<li>Jupyter</li>\n",
    "</ol>"
   ]
  },
  {
   "cell_type": "markdown",
   "id": "64337822-6533-4139-8026-ae95682abe46",
   "metadata": {},
   "source": [
    "Some of the commonly used libraries used by Data Scientists include:\n",
    "<ol>\n",
    "<li>Panda</li>\n",
    "<li>Numpy</li>\n",
    "<li>ggplot</li>\n",
    "</ol>"
   ]
  },
  {
   "cell_type": "raw",
   "id": "38c3fe29-457d-4975-ae52-f67eade5d009",
   "metadata": {},
   "source": [
    "<table>\n",
    "    <tr>\n",
    "        <th>Data Science Tools</th>\n",
    "    </tr>\n",
    "    <tr>\n",
    "        <td>Jupyter  Notebooks</td>\n",
    "    </tr>\n",
    "    <tr>\n",
    "        <td>RStudio</td>\n",
    "    </tr>\n",
    "    <tr>\n",
    "        <td>Anaconda</td>\n",
    "    </tr>\n",
    "</table>"
   ]
  },
  {
   "cell_type": "markdown",
   "id": "2812dc76-c5fd-45be-a46c-603671213e81",
   "metadata": {},
   "source": [
    "### Below are a few examples of evaluating arithmetic expressions in Python"
   ]
  },
  {
   "cell_type": "code",
   "execution_count": 13,
   "id": "b90a9491-17b9-48d1-98c5-2563563f307c",
   "metadata": {},
   "outputs": [
    {
     "data": {
      "text/plain": [
       "17"
      ]
     },
     "execution_count": 13,
     "metadata": {},
     "output_type": "execute_result"
    }
   ],
   "source": [
    "# This is a simple arithmetic expression to multiply then add integers\n",
    "(3*4)+5"
   ]
  },
  {
   "cell_type": "code",
   "execution_count": 14,
   "id": "583e81ee-6ab6-4f9f-9e8f-243b234e72ab",
   "metadata": {},
   "outputs": [
    {
     "data": {
      "text/plain": [
       "3.3333333333333335"
      ]
     },
     "execution_count": 14,
     "metadata": {},
     "output_type": "execute_result"
    }
   ],
   "source": [
    "# This will convert 200 minutes to hours by dividing by 60\n",
    "200/60"
   ]
  },
  {
   "cell_type": "raw",
   "id": "2d44bda6-ef4f-407f-a5e2-395c5e8729cc",
   "metadata": {},
   "source": [
    "## Author\n",
    "Luis Hinostroza"
   ]
  },
  {
   "cell_type": "raw",
   "id": "a29a73a0-fc9f-426f-9efa-a92db236fdd1",
   "metadata": {},
   "source": []
  }
 ],
 "metadata": {
  "kernelspec": {
   "display_name": "Python 3 (ipykernel)",
   "language": "python",
   "name": "python3"
  },
  "language_info": {
   "codemirror_mode": {
    "name": "ipython",
    "version": 3
   },
   "file_extension": ".py",
   "mimetype": "text/x-python",
   "name": "python",
   "nbconvert_exporter": "python",
   "pygments_lexer": "ipython3",
   "version": "3.12.1"
  }
 },
 "nbformat": 4,
 "nbformat_minor": 5
}
